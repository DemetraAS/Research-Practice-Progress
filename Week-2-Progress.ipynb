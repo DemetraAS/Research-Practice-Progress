{
  "nbformat": 4,
  "nbformat_minor": 0,
  "metadata": {
    "colab": {
      "provenance": []
    },
    "kernelspec": {
      "name": "python3",
      "display_name": "Python 3"
    },
    "language_info": {
      "name": "python"
    }
  },
  "cells": [
    {
      "cell_type": "code",
      "execution_count": null,
      "metadata": {
        "colab": {
          "base_uri": "https://localhost:8080/"
        },
        "id": "dJuadecEefN0",
        "outputId": "984ecb46-3b40-49df-ffad-933b02ad5c77"
      },
      "outputs": [
        {
          "output_type": "stream",
          "name": "stdout",
          "text": [
            "Mounted at /content/drive\n"
          ]
        }
      ],
      "source": [
        "import pandas as pd\n",
        "import numpy as np\n",
        "import matplotlib.pyplot as plt\n",
        "from sklearn.preprocessing import StandardScaler\n",
        "import seaborn as sns\n",
        "import tensorflow as tf\n",
        "import math\n",
        "from sklearn.metrics import mean_squared_error\n",
        "from tensorflow.keras.models import Sequential\n",
        "from tensorflow.keras.layers import LSTM, Dense, GRU, Dropout\n",
        "from google.colab import drive\n",
        "drive.mount('/content/drive')"
      ]
    },
    {
      "cell_type": "code",
      "source": [
        "def load_dataframe(subset_number):\n",
        "    turbo_train= pd.read_csv(f\"/content/drive/MyDrive/NASAturbofan/train_FD00{subset_number}.txt\", sep='\\s+',header=None, index_col=False)\n",
        "    turbo_test = pd.read_csv(f'/content/drive/MyDrive/NASAturbofan/test_FD00{subset_number}.txt', sep='\\s+',header=None, index_col=False)\n",
        "    y_RUL = pd.read_csv(f'/content/drive/MyDrive/NASAturbofan/RUL_FD00{subset_number}.txt', sep='\\s+',header=None, index_col=False)\n",
        "    return turbo_train, turbo_test, y_RUL\n"
      ],
      "metadata": {
        "id": "wAM0eo5Sv_Yr"
      },
      "execution_count": null,
      "outputs": []
    },
    {
      "cell_type": "code",
      "source": [
        "turbo_train_1, turbo_test_1, y_RUL_1 = load_dataframe(1)\n",
        "turbo_train_2, turbo_test_2, y_RUL_2 = load_dataframe(2)\n",
        "turbo_train_3, turbo_test_3, y_RUL_3 = load_dataframe(3)\n",
        "turbo_train_4, turbo_test_4, y_RUL_4 = load_dataframe(4)"
      ],
      "metadata": {
        "id": "03KLLGxizpzz",
        "colab": {
          "base_uri": "https://localhost:8080/",
          "height": 339
        },
        "outputId": "56257663-0ffb-477f-a56c-1d3e8fcd13d1"
      },
      "execution_count": null,
      "outputs": [
        {
          "output_type": "error",
          "ename": "FileNotFoundError",
          "evalue": "[Errno 2] No such file or directory: '/content/drive/MyDrive/NASAturbofan/train_FD001.txt'",
          "traceback": [
            "\u001b[0;31m---------------------------------------------------------------------------\u001b[0m",
            "\u001b[0;31mFileNotFoundError\u001b[0m                         Traceback (most recent call last)",
            "\u001b[0;32m<ipython-input-5-e2cb05095605>\u001b[0m in \u001b[0;36m<cell line: 1>\u001b[0;34m()\u001b[0m\n\u001b[0;32m----> 1\u001b[0;31m \u001b[0mturbo_train_1\u001b[0m\u001b[0;34m,\u001b[0m \u001b[0mturbo_test_1\u001b[0m\u001b[0;34m,\u001b[0m \u001b[0my_RUL_1\u001b[0m \u001b[0;34m=\u001b[0m \u001b[0mload_dataframe\u001b[0m\u001b[0;34m(\u001b[0m\u001b[0;36m1\u001b[0m\u001b[0;34m)\u001b[0m\u001b[0;34m\u001b[0m\u001b[0;34m\u001b[0m\u001b[0m\n\u001b[0m\u001b[1;32m      2\u001b[0m \u001b[0mturbo_train_2\u001b[0m\u001b[0;34m,\u001b[0m \u001b[0mturbo_test_2\u001b[0m\u001b[0;34m,\u001b[0m \u001b[0my_RUL_2\u001b[0m \u001b[0;34m=\u001b[0m \u001b[0mload_dataframe\u001b[0m\u001b[0;34m(\u001b[0m\u001b[0;36m2\u001b[0m\u001b[0;34m)\u001b[0m\u001b[0;34m\u001b[0m\u001b[0;34m\u001b[0m\u001b[0m\n\u001b[1;32m      3\u001b[0m \u001b[0mturbo_train_3\u001b[0m\u001b[0;34m,\u001b[0m \u001b[0mturbo_test_3\u001b[0m\u001b[0;34m,\u001b[0m \u001b[0my_RUL_3\u001b[0m \u001b[0;34m=\u001b[0m \u001b[0mload_dataframe\u001b[0m\u001b[0;34m(\u001b[0m\u001b[0;36m3\u001b[0m\u001b[0;34m)\u001b[0m\u001b[0;34m\u001b[0m\u001b[0;34m\u001b[0m\u001b[0m\n\u001b[1;32m      4\u001b[0m \u001b[0mturbo_train_4\u001b[0m\u001b[0;34m,\u001b[0m \u001b[0mturbo_test_4\u001b[0m\u001b[0;34m,\u001b[0m \u001b[0my_RUL_4\u001b[0m \u001b[0;34m=\u001b[0m \u001b[0mload_dataframe\u001b[0m\u001b[0;34m(\u001b[0m\u001b[0;36m4\u001b[0m\u001b[0;34m)\u001b[0m\u001b[0;34m\u001b[0m\u001b[0;34m\u001b[0m\u001b[0m\n",
            "\u001b[0;32m<ipython-input-2-31439540af79>\u001b[0m in \u001b[0;36mload_dataframe\u001b[0;34m(subset_number)\u001b[0m\n\u001b[1;32m      1\u001b[0m \u001b[0;32mdef\u001b[0m \u001b[0mload_dataframe\u001b[0m\u001b[0;34m(\u001b[0m\u001b[0msubset_number\u001b[0m\u001b[0;34m)\u001b[0m\u001b[0;34m:\u001b[0m\u001b[0;34m\u001b[0m\u001b[0;34m\u001b[0m\u001b[0m\n\u001b[0;32m----> 2\u001b[0;31m     \u001b[0mturbo_train\u001b[0m\u001b[0;34m=\u001b[0m \u001b[0mpd\u001b[0m\u001b[0;34m.\u001b[0m\u001b[0mread_csv\u001b[0m\u001b[0;34m(\u001b[0m\u001b[0;34mf\"/content/drive/MyDrive/NASAturbofan/train_FD00{subset_number}.txt\"\u001b[0m\u001b[0;34m,\u001b[0m \u001b[0msep\u001b[0m\u001b[0;34m=\u001b[0m\u001b[0;34m'\\s+'\u001b[0m\u001b[0;34m,\u001b[0m\u001b[0mheader\u001b[0m\u001b[0;34m=\u001b[0m\u001b[0;32mNone\u001b[0m\u001b[0;34m,\u001b[0m \u001b[0mindex_col\u001b[0m\u001b[0;34m=\u001b[0m\u001b[0;32mFalse\u001b[0m\u001b[0;34m)\u001b[0m\u001b[0;34m\u001b[0m\u001b[0;34m\u001b[0m\u001b[0m\n\u001b[0m\u001b[1;32m      3\u001b[0m     \u001b[0mturbo_test\u001b[0m \u001b[0;34m=\u001b[0m \u001b[0mpd\u001b[0m\u001b[0;34m.\u001b[0m\u001b[0mread_csv\u001b[0m\u001b[0;34m(\u001b[0m\u001b[0;34mf'/content/drive/MyDrive/NASAturbofan/test_FD00{subset_number}.txt'\u001b[0m\u001b[0;34m,\u001b[0m \u001b[0msep\u001b[0m\u001b[0;34m=\u001b[0m\u001b[0;34m'\\s+'\u001b[0m\u001b[0;34m,\u001b[0m\u001b[0mheader\u001b[0m\u001b[0;34m=\u001b[0m\u001b[0;32mNone\u001b[0m\u001b[0;34m,\u001b[0m \u001b[0mindex_col\u001b[0m\u001b[0;34m=\u001b[0m\u001b[0;32mFalse\u001b[0m\u001b[0;34m)\u001b[0m\u001b[0;34m\u001b[0m\u001b[0;34m\u001b[0m\u001b[0m\n\u001b[1;32m      4\u001b[0m     \u001b[0my_RUL\u001b[0m \u001b[0;34m=\u001b[0m \u001b[0mpd\u001b[0m\u001b[0;34m.\u001b[0m\u001b[0mread_csv\u001b[0m\u001b[0;34m(\u001b[0m\u001b[0;34mf'/content/drive/MyDrive/NASAturbofan/RUL_FD00{subset_number}.txt'\u001b[0m\u001b[0;34m,\u001b[0m \u001b[0msep\u001b[0m\u001b[0;34m=\u001b[0m\u001b[0;34m'\\s+'\u001b[0m\u001b[0;34m,\u001b[0m\u001b[0mheader\u001b[0m\u001b[0;34m=\u001b[0m\u001b[0;32mNone\u001b[0m\u001b[0;34m,\u001b[0m \u001b[0mindex_col\u001b[0m\u001b[0;34m=\u001b[0m\u001b[0;32mFalse\u001b[0m\u001b[0;34m)\u001b[0m\u001b[0;34m\u001b[0m\u001b[0;34m\u001b[0m\u001b[0m\n\u001b[1;32m      5\u001b[0m     \u001b[0;32mreturn\u001b[0m \u001b[0mturbo_train\u001b[0m\u001b[0;34m,\u001b[0m \u001b[0mturbo_test\u001b[0m\u001b[0;34m,\u001b[0m \u001b[0my_RUL\u001b[0m\u001b[0;34m\u001b[0m\u001b[0;34m\u001b[0m\u001b[0m\n",
            "\u001b[0;32m/usr/local/lib/python3.10/dist-packages/pandas/util/_decorators.py\u001b[0m in \u001b[0;36mwrapper\u001b[0;34m(*args, **kwargs)\u001b[0m\n\u001b[1;32m    209\u001b[0m                 \u001b[0;32melse\u001b[0m\u001b[0;34m:\u001b[0m\u001b[0;34m\u001b[0m\u001b[0;34m\u001b[0m\u001b[0m\n\u001b[1;32m    210\u001b[0m                     \u001b[0mkwargs\u001b[0m\u001b[0;34m[\u001b[0m\u001b[0mnew_arg_name\u001b[0m\u001b[0;34m]\u001b[0m \u001b[0;34m=\u001b[0m \u001b[0mnew_arg_value\u001b[0m\u001b[0;34m\u001b[0m\u001b[0;34m\u001b[0m\u001b[0m\n\u001b[0;32m--> 211\u001b[0;31m             \u001b[0;32mreturn\u001b[0m \u001b[0mfunc\u001b[0m\u001b[0;34m(\u001b[0m\u001b[0;34m*\u001b[0m\u001b[0margs\u001b[0m\u001b[0;34m,\u001b[0m \u001b[0;34m**\u001b[0m\u001b[0mkwargs\u001b[0m\u001b[0;34m)\u001b[0m\u001b[0;34m\u001b[0m\u001b[0;34m\u001b[0m\u001b[0m\n\u001b[0m\u001b[1;32m    212\u001b[0m \u001b[0;34m\u001b[0m\u001b[0m\n\u001b[1;32m    213\u001b[0m         \u001b[0;32mreturn\u001b[0m \u001b[0mcast\u001b[0m\u001b[0;34m(\u001b[0m\u001b[0mF\u001b[0m\u001b[0;34m,\u001b[0m \u001b[0mwrapper\u001b[0m\u001b[0;34m)\u001b[0m\u001b[0;34m\u001b[0m\u001b[0;34m\u001b[0m\u001b[0m\n",
            "\u001b[0;32m/usr/local/lib/python3.10/dist-packages/pandas/util/_decorators.py\u001b[0m in \u001b[0;36mwrapper\u001b[0;34m(*args, **kwargs)\u001b[0m\n\u001b[1;32m    329\u001b[0m                     \u001b[0mstacklevel\u001b[0m\u001b[0;34m=\u001b[0m\u001b[0mfind_stack_level\u001b[0m\u001b[0;34m(\u001b[0m\u001b[0;34m)\u001b[0m\u001b[0;34m,\u001b[0m\u001b[0;34m\u001b[0m\u001b[0;34m\u001b[0m\u001b[0m\n\u001b[1;32m    330\u001b[0m                 )\n\u001b[0;32m--> 331\u001b[0;31m             \u001b[0;32mreturn\u001b[0m \u001b[0mfunc\u001b[0m\u001b[0;34m(\u001b[0m\u001b[0;34m*\u001b[0m\u001b[0margs\u001b[0m\u001b[0;34m,\u001b[0m \u001b[0;34m**\u001b[0m\u001b[0mkwargs\u001b[0m\u001b[0;34m)\u001b[0m\u001b[0;34m\u001b[0m\u001b[0;34m\u001b[0m\u001b[0m\n\u001b[0m\u001b[1;32m    332\u001b[0m \u001b[0;34m\u001b[0m\u001b[0m\n\u001b[1;32m    333\u001b[0m         \u001b[0;31m# error: \"Callable[[VarArg(Any), KwArg(Any)], Any]\" has no\u001b[0m\u001b[0;34m\u001b[0m\u001b[0;34m\u001b[0m\u001b[0m\n",
            "\u001b[0;32m/usr/local/lib/python3.10/dist-packages/pandas/io/parsers/readers.py\u001b[0m in \u001b[0;36mread_csv\u001b[0;34m(filepath_or_buffer, sep, delimiter, header, names, index_col, usecols, squeeze, prefix, mangle_dupe_cols, dtype, engine, converters, true_values, false_values, skipinitialspace, skiprows, skipfooter, nrows, na_values, keep_default_na, na_filter, verbose, skip_blank_lines, parse_dates, infer_datetime_format, keep_date_col, date_parser, dayfirst, cache_dates, iterator, chunksize, compression, thousands, decimal, lineterminator, quotechar, quoting, doublequote, escapechar, comment, encoding, encoding_errors, dialect, error_bad_lines, warn_bad_lines, on_bad_lines, delim_whitespace, low_memory, memory_map, float_precision, storage_options)\u001b[0m\n\u001b[1;32m    948\u001b[0m     \u001b[0mkwds\u001b[0m\u001b[0;34m.\u001b[0m\u001b[0mupdate\u001b[0m\u001b[0;34m(\u001b[0m\u001b[0mkwds_defaults\u001b[0m\u001b[0;34m)\u001b[0m\u001b[0;34m\u001b[0m\u001b[0;34m\u001b[0m\u001b[0m\n\u001b[1;32m    949\u001b[0m \u001b[0;34m\u001b[0m\u001b[0m\n\u001b[0;32m--> 950\u001b[0;31m     \u001b[0;32mreturn\u001b[0m \u001b[0m_read\u001b[0m\u001b[0;34m(\u001b[0m\u001b[0mfilepath_or_buffer\u001b[0m\u001b[0;34m,\u001b[0m \u001b[0mkwds\u001b[0m\u001b[0;34m)\u001b[0m\u001b[0;34m\u001b[0m\u001b[0;34m\u001b[0m\u001b[0m\n\u001b[0m\u001b[1;32m    951\u001b[0m \u001b[0;34m\u001b[0m\u001b[0m\n\u001b[1;32m    952\u001b[0m \u001b[0;34m\u001b[0m\u001b[0m\n",
            "\u001b[0;32m/usr/local/lib/python3.10/dist-packages/pandas/io/parsers/readers.py\u001b[0m in \u001b[0;36m_read\u001b[0;34m(filepath_or_buffer, kwds)\u001b[0m\n\u001b[1;32m    603\u001b[0m \u001b[0;34m\u001b[0m\u001b[0m\n\u001b[1;32m    604\u001b[0m     \u001b[0;31m# Create the parser.\u001b[0m\u001b[0;34m\u001b[0m\u001b[0;34m\u001b[0m\u001b[0m\n\u001b[0;32m--> 605\u001b[0;31m     \u001b[0mparser\u001b[0m \u001b[0;34m=\u001b[0m \u001b[0mTextFileReader\u001b[0m\u001b[0;34m(\u001b[0m\u001b[0mfilepath_or_buffer\u001b[0m\u001b[0;34m,\u001b[0m \u001b[0;34m**\u001b[0m\u001b[0mkwds\u001b[0m\u001b[0;34m)\u001b[0m\u001b[0;34m\u001b[0m\u001b[0;34m\u001b[0m\u001b[0m\n\u001b[0m\u001b[1;32m    606\u001b[0m \u001b[0;34m\u001b[0m\u001b[0m\n\u001b[1;32m    607\u001b[0m     \u001b[0;32mif\u001b[0m \u001b[0mchunksize\u001b[0m \u001b[0;32mor\u001b[0m \u001b[0miterator\u001b[0m\u001b[0;34m:\u001b[0m\u001b[0;34m\u001b[0m\u001b[0;34m\u001b[0m\u001b[0m\n",
            "\u001b[0;32m/usr/local/lib/python3.10/dist-packages/pandas/io/parsers/readers.py\u001b[0m in \u001b[0;36m__init__\u001b[0;34m(self, f, engine, **kwds)\u001b[0m\n\u001b[1;32m   1440\u001b[0m \u001b[0;34m\u001b[0m\u001b[0m\n\u001b[1;32m   1441\u001b[0m         \u001b[0mself\u001b[0m\u001b[0;34m.\u001b[0m\u001b[0mhandles\u001b[0m\u001b[0;34m:\u001b[0m \u001b[0mIOHandles\u001b[0m \u001b[0;34m|\u001b[0m \u001b[0;32mNone\u001b[0m \u001b[0;34m=\u001b[0m \u001b[0;32mNone\u001b[0m\u001b[0;34m\u001b[0m\u001b[0;34m\u001b[0m\u001b[0m\n\u001b[0;32m-> 1442\u001b[0;31m         \u001b[0mself\u001b[0m\u001b[0;34m.\u001b[0m\u001b[0m_engine\u001b[0m \u001b[0;34m=\u001b[0m \u001b[0mself\u001b[0m\u001b[0;34m.\u001b[0m\u001b[0m_make_engine\u001b[0m\u001b[0;34m(\u001b[0m\u001b[0mf\u001b[0m\u001b[0;34m,\u001b[0m \u001b[0mself\u001b[0m\u001b[0;34m.\u001b[0m\u001b[0mengine\u001b[0m\u001b[0;34m)\u001b[0m\u001b[0;34m\u001b[0m\u001b[0;34m\u001b[0m\u001b[0m\n\u001b[0m\u001b[1;32m   1443\u001b[0m \u001b[0;34m\u001b[0m\u001b[0m\n\u001b[1;32m   1444\u001b[0m     \u001b[0;32mdef\u001b[0m \u001b[0mclose\u001b[0m\u001b[0;34m(\u001b[0m\u001b[0mself\u001b[0m\u001b[0;34m)\u001b[0m \u001b[0;34m->\u001b[0m \u001b[0;32mNone\u001b[0m\u001b[0;34m:\u001b[0m\u001b[0;34m\u001b[0m\u001b[0;34m\u001b[0m\u001b[0m\n",
            "\u001b[0;32m/usr/local/lib/python3.10/dist-packages/pandas/io/parsers/readers.py\u001b[0m in \u001b[0;36m_make_engine\u001b[0;34m(self, f, engine)\u001b[0m\n\u001b[1;32m   1733\u001b[0m                 \u001b[0;32mif\u001b[0m \u001b[0;34m\"b\"\u001b[0m \u001b[0;32mnot\u001b[0m \u001b[0;32min\u001b[0m \u001b[0mmode\u001b[0m\u001b[0;34m:\u001b[0m\u001b[0;34m\u001b[0m\u001b[0;34m\u001b[0m\u001b[0m\n\u001b[1;32m   1734\u001b[0m                     \u001b[0mmode\u001b[0m \u001b[0;34m+=\u001b[0m \u001b[0;34m\"b\"\u001b[0m\u001b[0;34m\u001b[0m\u001b[0;34m\u001b[0m\u001b[0m\n\u001b[0;32m-> 1735\u001b[0;31m             self.handles = get_handle(\n\u001b[0m\u001b[1;32m   1736\u001b[0m                 \u001b[0mf\u001b[0m\u001b[0;34m,\u001b[0m\u001b[0;34m\u001b[0m\u001b[0;34m\u001b[0m\u001b[0m\n\u001b[1;32m   1737\u001b[0m                 \u001b[0mmode\u001b[0m\u001b[0;34m,\u001b[0m\u001b[0;34m\u001b[0m\u001b[0;34m\u001b[0m\u001b[0m\n",
            "\u001b[0;32m/usr/local/lib/python3.10/dist-packages/pandas/io/common.py\u001b[0m in \u001b[0;36mget_handle\u001b[0;34m(path_or_buf, mode, encoding, compression, memory_map, is_text, errors, storage_options)\u001b[0m\n\u001b[1;32m    854\u001b[0m         \u001b[0;32mif\u001b[0m \u001b[0mioargs\u001b[0m\u001b[0;34m.\u001b[0m\u001b[0mencoding\u001b[0m \u001b[0;32mand\u001b[0m \u001b[0;34m\"b\"\u001b[0m \u001b[0;32mnot\u001b[0m \u001b[0;32min\u001b[0m \u001b[0mioargs\u001b[0m\u001b[0;34m.\u001b[0m\u001b[0mmode\u001b[0m\u001b[0;34m:\u001b[0m\u001b[0;34m\u001b[0m\u001b[0;34m\u001b[0m\u001b[0m\n\u001b[1;32m    855\u001b[0m             \u001b[0;31m# Encoding\u001b[0m\u001b[0;34m\u001b[0m\u001b[0;34m\u001b[0m\u001b[0m\n\u001b[0;32m--> 856\u001b[0;31m             handle = open(\n\u001b[0m\u001b[1;32m    857\u001b[0m                 \u001b[0mhandle\u001b[0m\u001b[0;34m,\u001b[0m\u001b[0;34m\u001b[0m\u001b[0;34m\u001b[0m\u001b[0m\n\u001b[1;32m    858\u001b[0m                 \u001b[0mioargs\u001b[0m\u001b[0;34m.\u001b[0m\u001b[0mmode\u001b[0m\u001b[0;34m,\u001b[0m\u001b[0;34m\u001b[0m\u001b[0;34m\u001b[0m\u001b[0m\n",
            "\u001b[0;31mFileNotFoundError\u001b[0m: [Errno 2] No such file or directory: '/content/drive/MyDrive/NASAturbofan/train_FD001.txt'"
          ]
        }
      ]
    },
    {
      "cell_type": "code",
      "source": [
        "def add_RUL_column(turbo_train, turbo_test, y_RUL):\n",
        "  turbo_train.sort_values(by=[0, 1], inplace=True)\n",
        "  turbo_train['RUL'] = turbo_train.groupby(0).cumcount(ascending=False)\n",
        "\n",
        "  y_RUL_series=y_RUL[0]\n",
        "  turbo_test.sort_values(by=[0, 1], inplace=True)\n",
        "  adjusted_engine_numbers = turbo_test[0].values - 1\n",
        "  turbo_test['RUL'] = turbo_test.groupby(0).cumcount(ascending=False) + y_RUL_series.iloc[adjusted_engine_numbers].values\n",
        "\n",
        "  return turbo_train, turbo_test\n"
      ],
      "metadata": {
        "id": "gmHZ7N5x6Vvo"
      },
      "execution_count": null,
      "outputs": []
    },
    {
      "cell_type": "code",
      "source": [
        "turbo_train_1, turbo_test_1=add_RUL_column(turbo_train_1, turbo_test_1, y_RUL_1)\n",
        "turbo_train_2, turbo_test_2=add_RUL_column(turbo_train_2, turbo_test_2, y_RUL_2)\n",
        "turbo_train_3, turbo_test_3=add_RUL_column(turbo_train_3, turbo_test_3, y_RUL_3)\n",
        "turbo_train_4, turbo_test_4=add_RUL_column(turbo_train_4, turbo_test_4, y_RUL_4)"
      ],
      "metadata": {
        "id": "fgohsI5G7NA9"
      },
      "execution_count": null,
      "outputs": []
    },
    {
      "cell_type": "code",
      "source": [
        "def complete_dataframe(turbo_train, turbo_test):\n",
        "  turbofan = pd.concat([turbo_train, turbo_test])\n",
        "  return turbofan"
      ],
      "metadata": {
        "id": "4jDDUl0D7m5g"
      },
      "execution_count": null,
      "outputs": []
    },
    {
      "cell_type": "code",
      "source": [
        "turbofan1=complete_dataframe(turbo_train_1, turbo_test_1)\n",
        "turbofan2=complete_dataframe(turbo_train_2, turbo_test_2)\n",
        "turbofan3=complete_dataframe(turbo_train_3, turbo_test_3)\n",
        "turbofan4=complete_dataframe(turbo_train_4, turbo_test_4)"
      ],
      "metadata": {
        "id": "-AYU4CSw74Wf"
      },
      "execution_count": null,
      "outputs": []
    },
    {
      "cell_type": "markdown",
      "source": [
        "#Preprocessing"
      ],
      "metadata": {
        "id": "5kiuXteogxOI"
      }
    },
    {
      "cell_type": "markdown",
      "source": [
        "##Correlation Analysis"
      ],
      "metadata": {
        "id": "YmUAHB9Yg0-1"
      }
    },
    {
      "cell_type": "code",
      "source": [
        "def compute_pearson(turbofan):\n",
        "  correlation_matrix = abs(turbofan.corr(method='pearson'))\n",
        "  target_column = 'RUL'\n",
        "  correlation = correlation_matrix[target_column]\n",
        "  scaled_correlation = correlation * 100\n",
        "  return round(scaled_correlation, 2)"
      ],
      "metadata": {
        "id": "xpvC4b8G9bTh"
      },
      "execution_count": null,
      "outputs": []
    },
    {
      "cell_type": "code",
      "source": [
        "p1=compute_pearson(turbofan1)\n",
        "p2=compute_pearson(turbofan2)\n",
        "p3=compute_pearson(turbofan3)\n",
        "p4=compute_pearson(turbofan4)"
      ],
      "metadata": {
        "id": "GNTYHNvJ9oV2",
        "colab": {
          "base_uri": "https://localhost:8080/",
          "height": 193
        },
        "outputId": "a8289213-ae75-416b-ada0-fe0de00276c0"
      },
      "execution_count": null,
      "outputs": [
        {
          "output_type": "error",
          "ename": "NameError",
          "evalue": "name 'turbofan1' is not defined",
          "traceback": [
            "\u001b[0;31m---------------------------------------------------------------------------\u001b[0m",
            "\u001b[0;31mNameError\u001b[0m                                 Traceback (most recent call last)",
            "\u001b[0;32m<ipython-input-4-db8c49b640d9>\u001b[0m in \u001b[0;36m<cell line: 1>\u001b[0;34m()\u001b[0m\n\u001b[0;32m----> 1\u001b[0;31m \u001b[0mp1\u001b[0m\u001b[0;34m=\u001b[0m\u001b[0mcompute_pearson\u001b[0m\u001b[0;34m(\u001b[0m\u001b[0mturbofan1\u001b[0m\u001b[0;34m)\u001b[0m\u001b[0;34m\u001b[0m\u001b[0;34m\u001b[0m\u001b[0m\n\u001b[0m\u001b[1;32m      2\u001b[0m \u001b[0mp2\u001b[0m\u001b[0;34m=\u001b[0m\u001b[0mcompute_pearson\u001b[0m\u001b[0;34m(\u001b[0m\u001b[0mturbofan2\u001b[0m\u001b[0;34m)\u001b[0m\u001b[0;34m\u001b[0m\u001b[0;34m\u001b[0m\u001b[0m\n\u001b[1;32m      3\u001b[0m \u001b[0mp3\u001b[0m\u001b[0;34m=\u001b[0m\u001b[0mcompute_pearson\u001b[0m\u001b[0;34m(\u001b[0m\u001b[0mturbofan3\u001b[0m\u001b[0;34m)\u001b[0m\u001b[0;34m\u001b[0m\u001b[0;34m\u001b[0m\u001b[0m\n\u001b[1;32m      4\u001b[0m \u001b[0mp4\u001b[0m\u001b[0;34m=\u001b[0m\u001b[0mcompute_pearson\u001b[0m\u001b[0;34m(\u001b[0m\u001b[0mturbofan4\u001b[0m\u001b[0;34m)\u001b[0m\u001b[0;34m\u001b[0m\u001b[0;34m\u001b[0m\u001b[0m\n",
            "\u001b[0;31mNameError\u001b[0m: name 'turbofan1' is not defined"
          ]
        }
      ]
    },
    {
      "cell_type": "code",
      "source": [
        "fig, axs = plt.subplots(1, 4, figsize=(15, 8), gridspec_kw={'width_ratios': [1, 1, 1, 1.2]})\n",
        "\n",
        "sns.heatmap(p1.to_frame(), annot=True, center=0, cmap='PiYG', fmt='', ax=axs[0], cbar=False)\n",
        "axs[0].set_title('Heatmap of FD001')\n",
        "axs[0].set_ylabel('Correlation Factor')\n",
        "\n",
        "sns.heatmap(p2.to_frame(), annot=True, center=0, cmap='PiYG', fmt='', ax=axs[1], cbar=False)\n",
        "axs[1].set_title('Heatmap of FD002')\n",
        "\n",
        "sns.heatmap(p3.to_frame(), annot=True, center=0, cmap='PiYG', fmt='', ax=axs[2], cbar=False)\n",
        "axs[2].set_title('Heatmap of FD003')\n",
        "\n",
        "sns.heatmap(p4.to_frame(), annot=True, center=0, cmap='PiYG', fmt='', ax=axs[3])\n",
        "axs[3].set_title('Heatmap of FD004')\n",
        "\n",
        "plt.tight_layout(rect=[0, 0.03, 1, 0.95], pad=2.5)\n",
        "\n",
        "plt.show()\n"
      ],
      "metadata": {
        "id": "k1fvSjAwD5n_"
      },
      "execution_count": null,
      "outputs": []
    },
    {
      "cell_type": "code",
      "source": [
        "def all_correlations(turbofan):\n",
        "  correlation_matrix = turbofan.corr(method='pearson')\n",
        "  return round(correlation_matrix, 2)"
      ],
      "metadata": {
        "id": "qh0EzC8AgwR9"
      },
      "execution_count": null,
      "outputs": []
    },
    {
      "cell_type": "code",
      "source": [
        "pear1=all_correlations(turbofan1)\n",
        "pear2=all_correlations(turbofan2)\n",
        "pear3=all_correlations(turbofan3)\n",
        "pear4=all_correlations(turbofan4)"
      ],
      "metadata": {
        "id": "4hDfEBpBg_CG"
      },
      "execution_count": null,
      "outputs": []
    },
    {
      "cell_type": "code",
      "source": [
        "fig, axs = plt.subplots(4, 1, figsize=(15, 35), gridspec_kw={'height_ratios': [1, 1, 1, 1.2]})\n",
        "\n",
        "sns.heatmap(pear1, annot=True, center=0, cmap='PiYG', fmt='', ax=axs[0], cbar_kws={\"shrink\": .5})\n",
        "axs[0].set_title('Complete Heatmap of FD001')\n",
        "axs[0].set_xlabel('Correlation Factor')\n",
        "\n",
        "sns.heatmap(pear2, annot=True, center=0, cmap='PiYG', fmt='', ax=axs[1], cbar_kws={\"shrink\": .5})\n",
        "axs[1].set_title('Complete Heatmap of FD002')\n",
        "\n",
        "sns.heatmap(pear3, annot=True, center=0, cmap='PiYG', fmt='', ax=axs[2], cbar_kws={\"shrink\": .5})\n",
        "axs[2].set_title('Complete Heatmap of FD003')\n",
        "\n",
        "sns.heatmap(pear4, annot=True, center=0, cmap='PiYG', fmt='', ax=axs[3], cbar_kws={\"shrink\": .5})\n",
        "axs[3].set_title('Complete Heatmap of FD004')\n",
        "axs[3].set_xlabel('Correlation Factor')\n",
        "\n",
        "plt.tight_layout(rect=[0, 0.03, 1, 0.95])\n",
        "\n",
        "plt.show()"
      ],
      "metadata": {
        "id": "ObYo4lp8k0fl"
      },
      "execution_count": null,
      "outputs": []
    },
    {
      "cell_type": "code",
      "source": [
        "sensor_pairs = []\n",
        "for i, pear in enumerate([pear1, pear2, pear3, pear4], start=1):\n",
        "    for sensor1, row in pear.iterrows():\n",
        "        for sensor2, correlation in row.items():\n",
        "            if correlation == 1 and sensor1 != sensor2:\n",
        "                sensor_pairs.append((f'FD00{i}_{sensor1}', f'FD00{i}_{sensor2}'))\n",
        "\n",
        "sensor_pairs_list= pd.DataFrame(sensor_pairs, columns=['Sensor1', 'Sensor2'])"
      ],
      "metadata": {
        "id": "jJl_h5yWsOhU"
      },
      "execution_count": null,
      "outputs": []
    },
    {
      "cell_type": "code",
      "source": [
        "sensor_pairs_list"
      ],
      "metadata": {
        "id": "kho-BD8ts_PO"
      },
      "execution_count": null,
      "outputs": []
    },
    {
      "cell_type": "markdown",
      "source": [
        "##Exclusions from each dataset based on correlation:\n",
        "###Subset 1:\n",
        " 0, 1, 2, 3, 4, 5, 9, 14, 20, 22, 23\n",
        "\n",
        "###Subset 2:\n",
        "9, 13, 16, 17, 21, 23, 22,  24, 25\n",
        "\n",
        "###Subset 3:\n",
        "0, 1, 2, 3, 4, 5, 9, 19, 20, 22, 23\n",
        "\n",
        "###Subset 4:\n",
        " 9, 13, 16, 17, 21, 22, 23, 24, 25"
      ],
      "metadata": {
        "id": "6ht7UtJQt1b6"
      }
    },
    {
      "cell_type": "code",
      "source": [
        "turbofan1 = turbofan1.drop(columns=[0, 1, 2, 3, 4, 5, 9, 14, 20, 22, 23 ])\n",
        "turbofan2 = turbofan2.drop(columns=[0, 1, 9, 13, 16, 17, 21, 23, 22, 24, 25])\n",
        "turbofan3 = turbofan3.drop(columns=[0, 1, 2, 3, 4, 5, 9, 19, 20, 22, 23])\n",
        "turbofan4 = turbofan4.drop(columns=[0, 1, 9, 13, 16, 17, 21, 22, 23, 24, 25 ])"
      ],
      "metadata": {
        "id": "a2DqAFscyhSV"
      },
      "execution_count": null,
      "outputs": []
    },
    {
      "cell_type": "code",
      "source": [
        "turbofan1"
      ],
      "metadata": {
        "id": "kN2zJFA-zIQx"
      },
      "execution_count": null,
      "outputs": []
    },
    {
      "cell_type": "markdown",
      "source": [
        "##Filtering"
      ],
      "metadata": {
        "id": "ImZhd0nHziN1"
      }
    },
    {
      "cell_type": "code",
      "source": [
        "def moving_median( turbofan, window_size, period):\n",
        "  columns_to_filter = turbofan.columns.drop('RUL')\n",
        "  filtered_turbo = turbofan.copy()\n",
        "  filtered_turbo[columns_to_filter] = turbofan[columns_to_filter].rolling(window=window_size, min_periods=period, axis=0).median()\n",
        "  return filtered_turbo"
      ],
      "metadata": {
        "id": "KIckONjnzg5z"
      },
      "execution_count": null,
      "outputs": []
    },
    {
      "cell_type": "code",
      "source": [
        "filtered_turbo1=moving_median(turbofan1, 5, 1)\n",
        "filtered_turbo2=moving_median(turbofan2, 5, 1)\n",
        "filtered_turbo3=moving_median(turbofan3, 5, 1)\n",
        "filtered_turbo4=moving_median(turbofan4, 5, 1)"
      ],
      "metadata": {
        "id": "LL1cK2t28nxb"
      },
      "execution_count": null,
      "outputs": []
    },
    {
      "cell_type": "markdown",
      "source": [
        "##Data Normalization"
      ],
      "metadata": {
        "id": "-5V1e2mwDOmh"
      }
    },
    {
      "cell_type": "code",
      "source": [
        "def z_score(turbofan):\n",
        "  scaler = StandardScaler()\n",
        "  normalized_turbo = turbofan.copy()\n",
        "  columns_to_normalize = turbofan.columns.drop('RUL')\n",
        "  normalized_turbo[columns_to_normalize] = scaler.fit_transform(turbofan[columns_to_normalize])\n",
        "  return normalized_turbo"
      ],
      "metadata": {
        "id": "gWOzZ7WFDUUd"
      },
      "execution_count": null,
      "outputs": []
    },
    {
      "cell_type": "code",
      "source": [
        "normalized_turbo1=z_score(turbofan1)\n",
        "normalized_turbo2=z_score(turbofan2)\n",
        "normalized_turbo3=z_score(turbofan3)\n",
        "normalized_turbo4=z_score(turbofan4)"
      ],
      "metadata": {
        "id": "FGyrLsCEEMEw"
      },
      "execution_count": null,
      "outputs": []
    },
    {
      "cell_type": "code",
      "source": [
        "normalized_turbo1"
      ],
      "metadata": {
        "id": "MYnAQtF8E02u"
      },
      "execution_count": null,
      "outputs": []
    },
    {
      "cell_type": "markdown",
      "source": [
        "#Implementing the performance measures"
      ],
      "metadata": {
        "id": "uUnAFTcgcqBX"
      }
    },
    {
      "cell_type": "code",
      "source": [
        "#the asymmetric scoring function  - MASCHLER !!!\n",
        "def PHME_score(y_true, y_pred):\n",
        "    dif=y_pred-y_true\n",
        "    if dif>=0:\n",
        "      score= math.exp(dif /10)-1\n",
        "    else:\n",
        "      score= math.exp(-dif /13)-1\n",
        "    return score"
      ],
      "metadata": {
        "id": "EjGGBvnmct25"
      },
      "execution_count": null,
      "outputs": []
    },
    {
      "cell_type": "code",
      "source": [
        "print(\"Score for an overestimation: \", PHME_score(112, 192))\n",
        "print(\"Score for an underestimation: \", PHME_score(192, 112))"
      ],
      "metadata": {
        "colab": {
          "base_uri": "https://localhost:8080/"
        },
        "id": "dJQPcWInftZb",
        "outputId": "35e8470c-befb-4d0c-a2bb-55c053e3c19e"
      },
      "execution_count": null,
      "outputs": [
        {
          "output_type": "stream",
          "name": "stdout",
          "text": [
            "Score for an overestimation:  2979.9579870417283\n",
            "Score for an underestimation:  469.5236172558757\n"
          ]
        }
      ]
    }
  ]
}